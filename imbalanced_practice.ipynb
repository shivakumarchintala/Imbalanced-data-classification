{
 "cells": [
  {
   "cell_type": "code",
   "execution_count": 1,
   "metadata": {},
   "outputs": [],
   "source": [
    "import pandas as pd\n",
    "import numpy as np"
   ]
  },
  {
   "cell_type": "code",
   "execution_count": 2,
   "metadata": {},
   "outputs": [],
   "source": [
    "df_train=pd.read_csv(r\"F:\\applied machine learing\\My data set\\project 24\\imbalanced\\train\\train.csv\")\n"
   ]
  },
  {
   "cell_type": "code",
   "execution_count": 92,
   "metadata": {},
   "outputs": [],
   "source": [
    "df_test=pd.read_csv(r\"F:\\applied machine learing\\My data set\\project 24\\imbalanced\\test\\test.csv\")"
   ]
  },
  {
   "cell_type": "code",
   "execution_count": 3,
   "metadata": {},
   "outputs": [
    {
     "data": {
      "text/html": [
       "<div>\n",
       "<style scoped>\n",
       "    .dataframe tbody tr th:only-of-type {\n",
       "        vertical-align: middle;\n",
       "    }\n",
       "\n",
       "    .dataframe tbody tr th {\n",
       "        vertical-align: top;\n",
       "    }\n",
       "\n",
       "    .dataframe thead th {\n",
       "        text-align: right;\n",
       "    }\n",
       "</style>\n",
       "<table border=\"1\" class=\"dataframe\">\n",
       "  <thead>\n",
       "    <tr style=\"text-align: right;\">\n",
       "      <th></th>\n",
       "      <th>age</th>\n",
       "      <th>industry_code</th>\n",
       "      <th>occupation_code</th>\n",
       "      <th>wage_per_hour</th>\n",
       "      <th>capital_gains</th>\n",
       "      <th>capital_losses</th>\n",
       "      <th>dividend_from_Stocks</th>\n",
       "      <th>num_person_Worked_employer</th>\n",
       "      <th>business_or_self_employed</th>\n",
       "      <th>veterans_benefits</th>\n",
       "      <th>weeks_worked_in_year</th>\n",
       "      <th>year</th>\n",
       "      <th>income_level</th>\n",
       "    </tr>\n",
       "  </thead>\n",
       "  <tbody>\n",
       "    <tr>\n",
       "      <th>count</th>\n",
       "      <td>199523.000000</td>\n",
       "      <td>199523.000000</td>\n",
       "      <td>199523.000000</td>\n",
       "      <td>199523.000000</td>\n",
       "      <td>199523.00000</td>\n",
       "      <td>199523.000000</td>\n",
       "      <td>199523.000000</td>\n",
       "      <td>199523.000000</td>\n",
       "      <td>199523.000000</td>\n",
       "      <td>199523.000000</td>\n",
       "      <td>199523.000000</td>\n",
       "      <td>199523.000000</td>\n",
       "      <td>199523.000000</td>\n",
       "    </tr>\n",
       "    <tr>\n",
       "      <th>mean</th>\n",
       "      <td>34.494199</td>\n",
       "      <td>15.352320</td>\n",
       "      <td>11.306556</td>\n",
       "      <td>55.426908</td>\n",
       "      <td>434.71899</td>\n",
       "      <td>37.313788</td>\n",
       "      <td>197.529533</td>\n",
       "      <td>1.956180</td>\n",
       "      <td>0.175438</td>\n",
       "      <td>1.514833</td>\n",
       "      <td>23.174897</td>\n",
       "      <td>94.499672</td>\n",
       "      <td>-43794.199165</td>\n",
       "    </tr>\n",
       "    <tr>\n",
       "      <th>std</th>\n",
       "      <td>22.310895</td>\n",
       "      <td>18.067129</td>\n",
       "      <td>14.454204</td>\n",
       "      <td>274.896454</td>\n",
       "      <td>4697.53128</td>\n",
       "      <td>271.896428</td>\n",
       "      <td>1984.163658</td>\n",
       "      <td>2.365126</td>\n",
       "      <td>0.553694</td>\n",
       "      <td>0.851473</td>\n",
       "      <td>24.411488</td>\n",
       "      <td>0.500001</td>\n",
       "      <td>24126.148404</td>\n",
       "    </tr>\n",
       "    <tr>\n",
       "      <th>min</th>\n",
       "      <td>0.000000</td>\n",
       "      <td>0.000000</td>\n",
       "      <td>0.000000</td>\n",
       "      <td>0.000000</td>\n",
       "      <td>0.00000</td>\n",
       "      <td>0.000000</td>\n",
       "      <td>0.000000</td>\n",
       "      <td>0.000000</td>\n",
       "      <td>0.000000</td>\n",
       "      <td>0.000000</td>\n",
       "      <td>0.000000</td>\n",
       "      <td>94.000000</td>\n",
       "      <td>-50000.000000</td>\n",
       "    </tr>\n",
       "    <tr>\n",
       "      <th>25%</th>\n",
       "      <td>15.000000</td>\n",
       "      <td>0.000000</td>\n",
       "      <td>0.000000</td>\n",
       "      <td>0.000000</td>\n",
       "      <td>0.00000</td>\n",
       "      <td>0.000000</td>\n",
       "      <td>0.000000</td>\n",
       "      <td>0.000000</td>\n",
       "      <td>0.000000</td>\n",
       "      <td>2.000000</td>\n",
       "      <td>0.000000</td>\n",
       "      <td>94.000000</td>\n",
       "      <td>-50000.000000</td>\n",
       "    </tr>\n",
       "    <tr>\n",
       "      <th>50%</th>\n",
       "      <td>33.000000</td>\n",
       "      <td>0.000000</td>\n",
       "      <td>0.000000</td>\n",
       "      <td>0.000000</td>\n",
       "      <td>0.00000</td>\n",
       "      <td>0.000000</td>\n",
       "      <td>0.000000</td>\n",
       "      <td>1.000000</td>\n",
       "      <td>0.000000</td>\n",
       "      <td>2.000000</td>\n",
       "      <td>8.000000</td>\n",
       "      <td>94.000000</td>\n",
       "      <td>-50000.000000</td>\n",
       "    </tr>\n",
       "    <tr>\n",
       "      <th>75%</th>\n",
       "      <td>50.000000</td>\n",
       "      <td>33.000000</td>\n",
       "      <td>26.000000</td>\n",
       "      <td>0.000000</td>\n",
       "      <td>0.00000</td>\n",
       "      <td>0.000000</td>\n",
       "      <td>0.000000</td>\n",
       "      <td>4.000000</td>\n",
       "      <td>0.000000</td>\n",
       "      <td>2.000000</td>\n",
       "      <td>52.000000</td>\n",
       "      <td>95.000000</td>\n",
       "      <td>-50000.000000</td>\n",
       "    </tr>\n",
       "    <tr>\n",
       "      <th>max</th>\n",
       "      <td>90.000000</td>\n",
       "      <td>51.000000</td>\n",
       "      <td>46.000000</td>\n",
       "      <td>9999.000000</td>\n",
       "      <td>99999.00000</td>\n",
       "      <td>4608.000000</td>\n",
       "      <td>99999.000000</td>\n",
       "      <td>6.000000</td>\n",
       "      <td>2.000000</td>\n",
       "      <td>2.000000</td>\n",
       "      <td>52.000000</td>\n",
       "      <td>95.000000</td>\n",
       "      <td>50000.000000</td>\n",
       "    </tr>\n",
       "  </tbody>\n",
       "</table>\n",
       "</div>"
      ],
      "text/plain": [
       "                 age  industry_code  occupation_code  wage_per_hour  \\\n",
       "count  199523.000000  199523.000000    199523.000000  199523.000000   \n",
       "mean       34.494199      15.352320        11.306556      55.426908   \n",
       "std        22.310895      18.067129        14.454204     274.896454   \n",
       "min         0.000000       0.000000         0.000000       0.000000   \n",
       "25%        15.000000       0.000000         0.000000       0.000000   \n",
       "50%        33.000000       0.000000         0.000000       0.000000   \n",
       "75%        50.000000      33.000000        26.000000       0.000000   \n",
       "max        90.000000      51.000000        46.000000    9999.000000   \n",
       "\n",
       "       capital_gains  capital_losses  dividend_from_Stocks  \\\n",
       "count   199523.00000   199523.000000         199523.000000   \n",
       "mean       434.71899       37.313788            197.529533   \n",
       "std       4697.53128      271.896428           1984.163658   \n",
       "min          0.00000        0.000000              0.000000   \n",
       "25%          0.00000        0.000000              0.000000   \n",
       "50%          0.00000        0.000000              0.000000   \n",
       "75%          0.00000        0.000000              0.000000   \n",
       "max      99999.00000     4608.000000          99999.000000   \n",
       "\n",
       "       num_person_Worked_employer  business_or_self_employed  \\\n",
       "count               199523.000000              199523.000000   \n",
       "mean                     1.956180                   0.175438   \n",
       "std                      2.365126                   0.553694   \n",
       "min                      0.000000                   0.000000   \n",
       "25%                      0.000000                   0.000000   \n",
       "50%                      1.000000                   0.000000   \n",
       "75%                      4.000000                   0.000000   \n",
       "max                      6.000000                   2.000000   \n",
       "\n",
       "       veterans_benefits  weeks_worked_in_year           year   income_level  \n",
       "count      199523.000000         199523.000000  199523.000000  199523.000000  \n",
       "mean            1.514833             23.174897      94.499672  -43794.199165  \n",
       "std             0.851473             24.411488       0.500001   24126.148404  \n",
       "min             0.000000              0.000000      94.000000  -50000.000000  \n",
       "25%             2.000000              0.000000      94.000000  -50000.000000  \n",
       "50%             2.000000              8.000000      94.000000  -50000.000000  \n",
       "75%             2.000000             52.000000      95.000000  -50000.000000  \n",
       "max             2.000000             52.000000      95.000000   50000.000000  "
      ]
     },
     "execution_count": 3,
     "metadata": {},
     "output_type": "execute_result"
    }
   ],
   "source": [
    "df_train.describe()"
   ]
  },
  {
   "cell_type": "code",
   "execution_count": 4,
   "metadata": {},
   "outputs": [
    {
     "name": "stdout",
     "output_type": "stream",
     "text": [
      "117 ms ± 2.08 ms per loop (mean ± std. dev. of 7 runs, 10 loops each)\n"
     ]
    }
   ],
   "source": [
    "%%timeit\n",
    "df_test.describe()"
   ]
  },
  {
   "cell_type": "code",
   "execution_count": 5,
   "metadata": {},
   "outputs": [
    {
     "data": {
      "text/plain": [
       "Index(['age', 'class_of_worker', 'industry_code', 'occupation_code',\n",
       "       'education', 'wage_per_hour', 'enrolled_in_edu_inst_lastwk',\n",
       "       'marital_status', 'major_industry_code', 'major_occupation_code',\n",
       "       'race', 'hispanic_origin', 'sex', 'member_of_labor_union',\n",
       "       'reason_for_unemployment', 'full_parttime_employment_stat',\n",
       "       'capital_gains', 'capital_losses', 'dividend_from_Stocks',\n",
       "       'tax_filer_status', 'region_of_previous_residence',\n",
       "       'state_of_previous_residence', 'd_household_family_stat',\n",
       "       'd_household_summary', 'migration_msa', 'migration_reg',\n",
       "       'migration_within_reg', 'live_1_year_ago', 'migration_sunbelt',\n",
       "       'num_person_Worked_employer', 'family_members_under_18',\n",
       "       'country_father', 'country_mother', 'country_self', 'citizenship',\n",
       "       'business_or_self_employed', 'fill_questionnaire_veteran_admin',\n",
       "       'veterans_benefits', 'weeks_worked_in_year', 'year', 'income_level'],\n",
       "      dtype='object')"
      ]
     },
     "execution_count": 5,
     "metadata": {},
     "output_type": "execute_result"
    }
   ],
   "source": [
    "df_train.columns"
   ]
  },
  {
   "cell_type": "code",
   "execution_count": 6,
   "metadata": {},
   "outputs": [
    {
     "data": {
      "text/plain": [
       "-50000    187141\n",
       " 50000     12382\n",
       "Name: income_level, dtype: int64"
      ]
     },
     "execution_count": 6,
     "metadata": {},
     "output_type": "execute_result"
    }
   ],
   "source": [
    "df_train.income_level.value_counts()"
   ]
  },
  {
   "cell_type": "markdown",
   "metadata": {},
   "source": [
    "finding missing values\n",
    "---------------------------------\n",
    "1.df_train.\n",
    "hispanic_origin\n",
    "state_of_previous_residence   \n",
    "migration_msa                       99696\n",
    "migration_reg                       99696\n",
    "migration_within_reg  \n",
    "migration_sunbelt       \n",
    "country_father                       6713\n",
    "country_mother                       6119\n",
    "country_self \n",
    "\n",
    "---------------------------------\n",
    "df_test set does not have any mssing values."
   ]
  },
  {
   "cell_type": "markdown",
   "metadata": {},
   "source": [
    "\n",
    "# filling missing values"
   ]
  },
  {
   "cell_type": "code",
   "execution_count": 7,
   "metadata": {},
   "outputs": [],
   "source": [
    "df_miss=df_train[['state_of_previous_residence','hispanic_origin','migration_msa','migration_reg','migration_within_reg','migration_sunbelt'\n",
    "                 ,'country_father','country_mother','country_self']]"
   ]
  },
  {
   "cell_type": "code",
   "execution_count": 8,
   "metadata": {},
   "outputs": [
    {
     "data": {
      "text/plain": [
       "Index(['state_of_previous_residence', 'hispanic_origin', 'migration_msa',\n",
       "       'migration_reg', 'migration_within_reg', 'migration_sunbelt',\n",
       "       'country_father', 'country_mother', 'country_self'],\n",
       "      dtype='object')"
      ]
     },
     "execution_count": 8,
     "metadata": {},
     "output_type": "execute_result"
    }
   ],
   "source": [
    "df_miss.columns"
   ]
  },
  {
   "cell_type": "code",
   "execution_count": 9,
   "metadata": {},
   "outputs": [
    {
     "data": {
      "text/plain": [
       "state_of_previous_residence    object\n",
       "hispanic_origin                object\n",
       "migration_msa                  object\n",
       "migration_reg                  object\n",
       "migration_within_reg           object\n",
       "migration_sunbelt              object\n",
       "country_father                 object\n",
       "country_mother                 object\n",
       "country_self                   object\n",
       "dtype: object"
      ]
     },
     "execution_count": 9,
     "metadata": {},
     "output_type": "execute_result"
    }
   ],
   "source": [
    "df_miss.dtypes\n",
    "#it is clear that all the miissing value columns are categorical/object.\n",
    "# so we have to use mode for that."
   ]
  },
  {
   "cell_type": "code",
   "execution_count": 10,
   "metadata": {},
   "outputs": [
    {
     "name": "stdout",
     "output_type": "stream",
     "text": [
      "Index(['age', 'class_of_worker', 'industry_code', 'occupation_code',\n",
      "       'education', 'wage_per_hour', 'enrolled_in_edu_inst_lastwk',\n",
      "       'marital_status', 'major_industry_code', 'major_occupation_code',\n",
      "       'race', 'hispanic_origin', 'sex', 'member_of_labor_union',\n",
      "       'reason_for_unemployment', 'full_parttime_employment_stat',\n",
      "       'capital_gains', 'capital_losses', 'dividend_from_Stocks',\n",
      "       'tax_filer_status', 'region_of_previous_residence',\n",
      "       'state_of_previous_residence', 'd_household_family_stat',\n",
      "       'd_household_summary', 'migration_msa', 'migration_reg',\n",
      "       'migration_within_reg', 'live_1_year_ago', 'migration_sunbelt',\n",
      "       'num_person_Worked_employer', 'family_members_under_18',\n",
      "       'country_father', 'country_mother', 'country_self', 'citizenship',\n",
      "       'business_or_self_employed', 'fill_questionnaire_veteran_admin',\n",
      "       'veterans_benefits', 'weeks_worked_in_year', 'year', 'income_level'],\n",
      "      dtype='object')\n"
     ]
    }
   ],
   "source": [
    "df_train.state_of_previous_residence.value_counts()\n",
    "print(df_train.columns)"
   ]
  },
  {
   "cell_type": "code",
   "execution_count": 11,
   "metadata": {},
   "outputs": [],
   "source": [
    "import scipy.stats as ss\n",
    "import numpy as np\n",
    "def cramers_v(x, y):\n",
    "    confusion_matrix = pd.crosstab(x,y)\n",
    "    chi2 = ss.chi2_contingency(confusion_matrix)[0]\n",
    "    n = confusion_matrix.sum().sum()\n",
    "    phi2 = chi2/n\n",
    "    r,k = confusion_matrix.shape\n",
    "    phi2corr = max(0, phi2-((k-1)*(r-1))/(n-1))\n",
    "    rcorr = r-((r-1)**2)/(n-1)\n",
    "    kcorr = k-((k-1)**2)/(n-1)\n",
    "    return np.sqrt(phi2corr/min((kcorr-1),(rcorr-1)))"
   ]
  },
  {
   "cell_type": "code",
   "execution_count": 12,
   "metadata": {},
   "outputs": [
    {
     "name": "stdout",
     "output_type": "stream",
     "text": [
      "region_of_previous_residence 0.9758500164416093\n",
      "state_of_previous_residence 1.0\n",
      "migration_sunbelt 0.9703837823935438\n"
     ]
    }
   ],
   "source": [
    "for x in df_train.columns:\n",
    "    v=cramers_v(df_train[x],df_train.state_of_previous_residence)\n",
    "    if v>0.85:\n",
    "        print(x, v)"
   ]
  },
  {
   "cell_type": "markdown",
   "metadata": {},
   "source": [
    "we ARE GOING TO USE region_of_previous_residence to fill missing values of state_of_previous_residence"
   ]
  },
  {
   "cell_type": "code",
   "execution_count": 13,
   "metadata": {},
   "outputs": [],
   "source": [
    "#df_train.state_of_previous_residence.fillna(df_train.groupby(\"region_of_previous_residence\")['state_of_previous_residence'].agg(lambda x:x.value_counts().index[0])))"
   ]
  },
  {
   "cell_type": "code",
   "execution_count": 14,
   "metadata": {},
   "outputs": [],
   "source": [
    "sopr=df_train.pivot_table(values=\"state_of_previous_residence\",columns=\"region_of_previous_residence\",aggfunc=(lambda x:x.value_counts().index[0]))"
   ]
  },
  {
   "cell_type": "code",
   "execution_count": 15,
   "metadata": {},
   "outputs": [],
   "source": [
    "miss_bool=df_train.state_of_previous_residence.isnull()"
   ]
  },
  {
   "cell_type": "code",
   "execution_count": 16,
   "metadata": {},
   "outputs": [],
   "source": [
    "#df_train.ix[miss_bool,'state_of_previous_residence'] = df_train.ix[miss_bool,'state_of_previous_residence'].apply(lambda x: sopr[x])"
   ]
  },
  {
   "cell_type": "code",
   "execution_count": 17,
   "metadata": {},
   "outputs": [
    {
     "data": {
      "text/html": [
       "<div>\n",
       "<style scoped>\n",
       "    .dataframe tbody tr th:only-of-type {\n",
       "        vertical-align: middle;\n",
       "    }\n",
       "\n",
       "    .dataframe tbody tr th {\n",
       "        vertical-align: top;\n",
       "    }\n",
       "\n",
       "    .dataframe thead th {\n",
       "        text-align: right;\n",
       "    }\n",
       "</style>\n",
       "<table border=\"1\" class=\"dataframe\">\n",
       "  <thead>\n",
       "    <tr style=\"text-align: right;\">\n",
       "      <th>region_of_previous_residence</th>\n",
       "      <th>Abroad</th>\n",
       "      <th>Midwest</th>\n",
       "      <th>Northeast</th>\n",
       "      <th>Not in universe</th>\n",
       "      <th>South</th>\n",
       "      <th>West</th>\n",
       "    </tr>\n",
       "  </thead>\n",
       "  <tbody>\n",
       "    <tr>\n",
       "      <th>state_of_previous_residence</th>\n",
       "      <td>Abroad</td>\n",
       "      <td>Oklahoma</td>\n",
       "      <td>North Carolina</td>\n",
       "      <td>Not in universe</td>\n",
       "      <td>Utah</td>\n",
       "      <td>California</td>\n",
       "    </tr>\n",
       "  </tbody>\n",
       "</table>\n",
       "</div>"
      ],
      "text/plain": [
       "region_of_previous_residence  Abroad   Midwest       Northeast  \\\n",
       "state_of_previous_residence   Abroad  Oklahoma  North Carolina   \n",
       "\n",
       "region_of_previous_residence  Not in universe South        West  \n",
       "state_of_previous_residence   Not in universe  Utah  California  "
      ]
     },
     "execution_count": 17,
     "metadata": {},
     "output_type": "execute_result"
    }
   ],
   "source": [
    "sopr"
   ]
  },
  {
   "cell_type": "code",
   "execution_count": 18,
   "metadata": {},
   "outputs": [
    {
     "name": "stderr",
     "output_type": "stream",
     "text": [
      "c:\\users\\shiva kumar\\appdata\\local\\programs\\python\\python36\\lib\\site-packages\\pandas\\core\\generic.py:5434: SettingWithCopyWarning: \n",
      "A value is trying to be set on a copy of a slice from a DataFrame\n",
      "\n",
      "See the caveats in the documentation: http://pandas.pydata.org/pandas-docs/stable/indexing.html#indexing-view-versus-copy\n",
      "  self._update_inplace(new_data)\n"
     ]
    }
   ],
   "source": [
    "df_train[df_train.region_of_previous_residence==\"Northeast\"].state_of_previous_residence.fillna(\"North Carolina\",inplace=True)"
   ]
  },
  {
   "cell_type": "code",
   "execution_count": 19,
   "metadata": {},
   "outputs": [
    {
     "data": {
      "text/plain": [
       "Northeast    440\n",
       "South        268\n",
       "Name: region_of_previous_residence, dtype: int64"
      ]
     },
     "execution_count": 19,
     "metadata": {},
     "output_type": "execute_result"
    }
   ],
   "source": [
    "df_train[df_train.state_of_previous_residence.isna()==True].region_of_previous_residence.value_counts()"
   ]
  },
  {
   "cell_type": "code",
   "execution_count": 20,
   "metadata": {},
   "outputs": [],
   "source": [
    "df_train[df_train.region_of_previous_residence==\"Northeast\"].state_of_previous_residence.fillna(\"North Carolina\",inplace=True)"
   ]
  },
  {
   "cell_type": "code",
   "execution_count": 21,
   "metadata": {},
   "outputs": [
    {
     "name": "stderr",
     "output_type": "stream",
     "text": [
      "c:\\users\\shiva kumar\\appdata\\local\\programs\\python\\python36\\lib\\site-packages\\pandas\\core\\generic.py:5890: SettingWithCopyWarning: \n",
      "A value is trying to be set on a copy of a slice from a DataFrame\n",
      "\n",
      "See the caveats in the documentation: http://pandas.pydata.org/pandas-docs/stable/indexing.html#indexing-view-versus-copy\n",
      "  self._update_inplace(new_data)\n"
     ]
    }
   ],
   "source": [
    "df_train[df_train.region_of_previous_residence==\"South\"].state_of_previous_residence.replace({0:\"Utah\"},inplace=True)"
   ]
  },
  {
   "cell_type": "code",
   "execution_count": 22,
   "metadata": {},
   "outputs": [],
   "source": [
    "df_train.state_of_previous_residence.fillna(0,inplace=True)\n"
   ]
  },
  {
   "cell_type": "code",
   "execution_count": 23,
   "metadata": {},
   "outputs": [],
   "source": [
    "df_train[df_train.region_of_previous_residence==\"Northeast\"].state_of_previous_residence.replace({0:\"North Carolina\"},inplace=True)"
   ]
  },
  {
   "cell_type": "code",
   "execution_count": 24,
   "metadata": {},
   "outputs": [
    {
     "data": {
      "text/plain": [
       "0"
      ]
     },
     "execution_count": 24,
     "metadata": {},
     "output_type": "execute_result"
    }
   ],
   "source": [
    "df_train.state_of_previous_residence.isna().sum()"
   ]
  },
  {
   "cell_type": "code",
   "execution_count": 25,
   "metadata": {},
   "outputs": [
    {
     "data": {
      "text/plain": [
       "Index(['state_of_previous_residence', 'hispanic_origin', 'migration_msa',\n",
       "       'migration_reg', 'migration_within_reg', 'migration_sunbelt',\n",
       "       'country_father', 'country_mother', 'country_self'],\n",
       "      dtype='object')"
      ]
     },
     "execution_count": 25,
     "metadata": {},
     "output_type": "execute_result"
    }
   ],
   "source": [
    "df_miss.columns"
   ]
  },
  {
   "cell_type": "markdown",
   "metadata": {},
   "source": [
    "#filling hispanic_origin"
   ]
  },
  {
   "cell_type": "code",
   "execution_count": 26,
   "metadata": {},
   "outputs": [
    {
     "data": {
      "text/plain": [
       "874"
      ]
     },
     "execution_count": 26,
     "metadata": {},
     "output_type": "execute_result"
    }
   ],
   "source": [
    "df_train.hispanic_origin.isna().sum()"
   ]
  },
  {
   "cell_type": "code",
   "execution_count": 27,
   "metadata": {},
   "outputs": [
    {
     "data": {
      "text/plain": [
       "All other                    171907\n",
       "Mexican-American               8079\n",
       "Mexican (Mexicano)             7234\n",
       "Central or South American      3895\n",
       "Puerto Rican                   3313\n",
       "Other Spanish                  2485\n",
       "Cuban                          1126\n",
       "Do not know                     306\n",
       "Chicano                         304\n",
       "Name: hispanic_origin, dtype: int64"
      ]
     },
     "execution_count": 27,
     "metadata": {},
     "output_type": "execute_result"
    }
   ],
   "source": [
    "df_train.hispanic_origin.value_counts()"
   ]
  },
  {
   "cell_type": "code",
   "execution_count": 28,
   "metadata": {},
   "outputs": [
    {
     "name": "stdout",
     "output_type": "stream",
     "text": [
      "0.9999999999999999 hispanic_origin\n",
      "0.5835849486525734 country_father\n",
      "0.5915524135092792 country_mother\n",
      "0.5276762211002716 country_self\n",
      "0.40516509582211124 citizenship\n"
     ]
    }
   ],
   "source": [
    "for x in df_train.columns:\n",
    "    v=cramers_v(df_train[x],df_train.hispanic_origin)\n",
    "    if v>0.3:\n",
    "        print(v, x)"
   ]
  },
  {
   "cell_type": "markdown",
   "metadata": {},
   "source": [
    "using country_mother to fill the missing values"
   ]
  },
  {
   "cell_type": "code",
   "execution_count": 29,
   "metadata": {},
   "outputs": [],
   "source": [
    "hispo=df_train.pivot_table(values=\"hispanic_origin\",columns=\"country_mother\",aggfunc=(lambda x:x.value_counts().index[0]))"
   ]
  },
  {
   "cell_type": "code",
   "execution_count": 30,
   "metadata": {},
   "outputs": [],
   "source": [
    "#df_train.hispanic_origin.fillna(0,inplace=True)"
   ]
  },
  {
   "cell_type": "code",
   "execution_count": 31,
   "metadata": {},
   "outputs": [],
   "source": [
    "df_train.set_index(\"citizenship\",inplace=True)"
   ]
  },
  {
   "cell_type": "code",
   "execution_count": 32,
   "metadata": {},
   "outputs": [],
   "source": [
    "df_train.hispanic_origin.fillna(df_train.groupby(\"citizenship\")['hispanic_origin'].agg(lambda x:x.value_counts().index[0]),inplace=True)"
   ]
  },
  {
   "cell_type": "code",
   "execution_count": 33,
   "metadata": {},
   "outputs": [
    {
     "data": {
      "text/plain": [
       "0"
      ]
     },
     "execution_count": 33,
     "metadata": {},
     "output_type": "execute_result"
    }
   ],
   "source": [
    "df_train.hispanic_origin.isnull().sum()"
   ]
  },
  {
   "cell_type": "code",
   "execution_count": 34,
   "metadata": {},
   "outputs": [
    {
     "name": "stdout",
     "output_type": "stream",
     "text": [
      "99696 (199523, 40)\n"
     ]
    }
   ],
   "source": [
    "print(df_train.migration_msa.isnull().sum(),df_train.shape)"
   ]
  },
  {
   "cell_type": "code",
   "execution_count": 35,
   "metadata": {},
   "outputs": [
    {
     "data": {
      "text/plain": [
       "0.4996717170451527"
      ]
     },
     "execution_count": 35,
     "metadata": {},
     "output_type": "execute_result"
    }
   ],
   "source": [
    "99696/199523#more than 40% of data is missing it is better to drop that column"
   ]
  },
  {
   "cell_type": "code",
   "execution_count": 46,
   "metadata": {},
   "outputs": [],
   "source": [
    "#droping migration_msa in both train and test\n",
    "df_train.drop([\"migration_reg\"],1,inplace=True)"
   ]
  },
  {
   "cell_type": "code",
   "execution_count": 37,
   "metadata": {},
   "outputs": [],
   "source": [
    "df_train.reset_index(inplace=True)"
   ]
  },
  {
   "cell_type": "code",
   "execution_count": 38,
   "metadata": {},
   "outputs": [
    {
     "data": {
      "text/plain": [
       "Native- Born in the United States              176992\n",
       "Foreign born- Not a citizen of U S              13401\n",
       "Foreign born- U S citizen by naturalization      5855\n",
       "Native- Born abroad of American Parent(s)        1756\n",
       "Native- Born in Puerto Rico or U S Outlying      1519\n",
       "Name: citizenship, dtype: int64"
      ]
     },
     "execution_count": 38,
     "metadata": {},
     "output_type": "execute_result"
    }
   ],
   "source": [
    "df_train.citizenship.value_counts()"
   ]
  },
  {
   "cell_type": "code",
   "execution_count": 93,
   "metadata": {},
   "outputs": [],
   "source": [
    "df_test.drop(['migration_within_reg'],1,inplace=True)\n",
    "df_test.drop(['migration_sunbelt'],1,inplace=True)\n",
    "df_test.drop([\"migration_reg\"],1,inplace=True)\n",
    "df_test.drop([\"migration_msa\"],1,inplace=True)"
   ]
  },
  {
   "cell_type": "code",
   "execution_count": 51,
   "metadata": {},
   "outputs": [
    {
     "name": "stdout",
     "output_type": "stream",
     "text": [
      "citizenship 0.5140007596102676\n",
      "race 0.4580595008254694\n",
      "hispanic_origin 0.5829837412464063\n",
      "country_father 1.0\n",
      "country_mother 0.7883892012402226\n",
      "country_self 0.6714306823824981\n"
     ]
    }
   ],
   "source": [
    "for x in df_train.columns:\n",
    "    v=cramers_v(df_train[x],df_train.country_father)\n",
    "    if v>0.3:\n",
    "        print(x, v)"
   ]
  },
  {
   "cell_type": "code",
   "execution_count": 53,
   "metadata": {},
   "outputs": [],
   "source": [
    "df_train.set_index(\"citizenship\",inplace=True)"
   ]
  },
  {
   "cell_type": "code",
   "execution_count": 55,
   "metadata": {},
   "outputs": [],
   "source": [
    "df_train.country_father.fillna(df_train.groupby(\"citizenship\")[\"country_father\"].agg(lambda x:x.value_counts().index[0]),inplace=True)"
   ]
  },
  {
   "cell_type": "code",
   "execution_count": 59,
   "metadata": {},
   "outputs": [],
   "source": [
    "df_train.country_mother.fillna(df_train.groupby(\"citizenship\")[\"country_mother\"].agg(lambda x:x.value_counts().index[0]),inplace=True)"
   ]
  },
  {
   "cell_type": "code",
   "execution_count": 60,
   "metadata": {},
   "outputs": [],
   "source": [
    "df_train.country_self.fillna(df_train.groupby(\"citizenship\")[\"country_self\"].agg(lambda x:x.value_counts().index[0]),inplace=True)"
   ]
  },
  {
   "cell_type": "code",
   "execution_count": 61,
   "metadata": {},
   "outputs": [
    {
     "data": {
      "text/plain": [
       "age                                 0\n",
       "class_of_worker                     0\n",
       "industry_code                       0\n",
       "occupation_code                     0\n",
       "education                           0\n",
       "wage_per_hour                       0\n",
       "enrolled_in_edu_inst_lastwk         0\n",
       "marital_status                      0\n",
       "major_industry_code                 0\n",
       "major_occupation_code               0\n",
       "race                                0\n",
       "hispanic_origin                     0\n",
       "sex                                 0\n",
       "member_of_labor_union               0\n",
       "reason_for_unemployment             0\n",
       "full_parttime_employment_stat       0\n",
       "capital_gains                       0\n",
       "capital_losses                      0\n",
       "dividend_from_Stocks                0\n",
       "tax_filer_status                    0\n",
       "region_of_previous_residence        0\n",
       "state_of_previous_residence         0\n",
       "d_household_family_stat             0\n",
       "d_household_summary                 0\n",
       "live_1_year_ago                     0\n",
       "num_person_Worked_employer          0\n",
       "family_members_under_18             0\n",
       "country_father                      0\n",
       "country_mother                      0\n",
       "country_self                        0\n",
       "business_or_self_employed           0\n",
       "fill_questionnaire_veteran_admin    0\n",
       "veterans_benefits                   0\n",
       "weeks_worked_in_year                0\n",
       "year                                0\n",
       "income_level                        0\n",
       "dtype: int64"
      ]
     },
     "execution_count": 61,
     "metadata": {},
     "output_type": "execute_result"
    }
   ],
   "source": [
    "df_train.isna().sum()"
   ]
  },
  {
   "cell_type": "code",
   "execution_count": 64,
   "metadata": {},
   "outputs": [],
   "source": [
    "corr=df_train.corr()"
   ]
  },
  {
   "cell_type": "code",
   "execution_count": 157,
   "metadata": {},
   "outputs": [
    {
     "data": {
      "text/plain": [
       "<matplotlib.axes._subplots.AxesSubplot at 0x1f4d23c1668>"
      ]
     },
     "execution_count": 157,
     "metadata": {},
     "output_type": "execute_result"
    },
    {
     "data": {
      "image/png": "[encoded data removed]",
      "text/plain": [
       "<Figure size 1152x432 with 2 Axes>"
      ]
     },
     "metadata": {
      "needs_background": "light"
     },
     "output_type": "display_data"
    }
   ],
   "source": [
    "import matplotlib.pyplot as plt\n",
    "%matplotlib inline\n",
    "import seaborn as sns\n",
    "plt.figure(figsize=(16,6))\n",
    "sns.heatmap(corr)"
   ]
  },
  {
   "cell_type": "code",
   "execution_count": 81,
   "metadata": {},
   "outputs": [],
   "source": [
    "df_train.income_level.replace({-50000:0,50000:1},inplace=True)"
   ]
  },
  {
   "cell_type": "code",
   "execution_count": 83,
   "metadata": {},
   "outputs": [
    {
     "data": {
      "text/plain": [
       "0    187141\n",
       "1     12382\n",
       "Name: income_level, dtype: int64"
      ]
     },
     "execution_count": 83,
     "metadata": {},
     "output_type": "execute_result"
    }
   ],
   "source": [
    "df_train.income_level.value_counts()"
   ]
  },
  {
   "cell_type": "code",
   "execution_count": 95,
   "metadata": {},
   "outputs": [
    {
     "data": {
      "text/plain": [
       "-50000    93576\n",
       " 50000     6186\n",
       "Name: income_level, dtype: int64"
      ]
     },
     "execution_count": 95,
     "metadata": {},
     "output_type": "execute_result"
    }
   ],
   "source": [
    "df_test.income_level.value_counts()"
   ]
  },
  {
   "cell_type": "code",
   "execution_count": 96,
   "metadata": {},
   "outputs": [],
   "source": [
    "df_test.income_level.replace({-50000:0,50000:1},inplace=True)"
   ]
  },
  {
   "cell_type": "code",
   "execution_count": 97,
   "metadata": {},
   "outputs": [
    {
     "data": {
      "text/plain": [
       "0    93576\n",
       "1     6186\n",
       "Name: income_level, dtype: int64"
      ]
     },
     "execution_count": 97,
     "metadata": {},
     "output_type": "execute_result"
    }
   ],
   "source": [
    "df_test.income_level.value_counts()"
   ]
  },
  {
   "cell_type": "markdown",
   "metadata": {},
   "source": [
    "# EDA"
   ]
  },
  {
   "cell_type": "code",
   "execution_count": 98,
   "metadata": {},
   "outputs": [
    {
     "data": {
      "text/plain": [
       "Index(['age', 'class_of_worker', 'industry_code', 'occupation_code',\n",
       "       'education', 'wage_per_hour', 'enrolled_in_edu_inst_lastwk',\n",
       "       'marital_status', 'major_industry_code', 'major_occupation_code',\n",
       "       'race', 'hispanic_origin', 'sex', 'member_of_labor_union',\n",
       "       'reason_for_unemployment', 'full_parttime_employment_stat',\n",
       "       'capital_gains', 'capital_losses', 'dividend_from_Stocks',\n",
       "       'tax_filer_status', 'region_of_previous_residence',\n",
       "       'state_of_previous_residence', 'd_household_family_stat',\n",
       "       'd_household_summary', 'live_1_year_ago', 'num_person_Worked_employer',\n",
       "       'family_members_under_18', 'country_father', 'country_mother',\n",
       "       'country_self', 'business_or_self_employed',\n",
       "       'fill_questionnaire_veteran_admin', 'veterans_benefits',\n",
       "       'weeks_worked_in_year', 'year', 'income_level'],\n",
       "      dtype='object')"
      ]
     },
     "execution_count": 98,
     "metadata": {},
     "output_type": "execute_result"
    }
   ],
   "source": [
    "df_train.columns"
   ]
  },
  {
   "cell_type": "code",
   "execution_count": 99,
   "metadata": {},
   "outputs": [
    {
     "data": {
      "text/plain": [
       "age                                  int64\n",
       "class_of_worker                     object\n",
       "industry_code                        int64\n",
       "occupation_code                      int64\n",
       "education                           object\n",
       "wage_per_hour                        int64\n",
       "enrolled_in_edu_inst_lastwk         object\n",
       "marital_status                      object\n",
       "major_industry_code                 object\n",
       "major_occupation_code               object\n",
       "race                                object\n",
       "hispanic_origin                     object\n",
       "sex                                 object\n",
       "member_of_labor_union               object\n",
       "reason_for_unemployment             object\n",
       "full_parttime_employment_stat       object\n",
       "capital_gains                        int64\n",
       "capital_losses                       int64\n",
       "dividend_from_Stocks                 int64\n",
       "tax_filer_status                    object\n",
       "region_of_previous_residence        object\n",
       "state_of_previous_residence         object\n",
       "d_household_family_stat             object\n",
       "d_household_summary                 object\n",
       "live_1_year_ago                     object\n",
       "num_person_Worked_employer           int64\n",
       "family_members_under_18             object\n",
       "country_father                      object\n",
       "country_mother                      object\n",
       "country_self                        object\n",
       "business_or_self_employed            int64\n",
       "fill_questionnaire_veteran_admin    object\n",
       "veterans_benefits                    int64\n",
       "weeks_worked_in_year                 int64\n",
       "year                                 int64\n",
       "income_level                         int64\n",
       "dtype: object"
      ]
     },
     "execution_count": 99,
     "metadata": {},
     "output_type": "execute_result"
    }
   ],
   "source": [
    "df_train.dtypes"
   ]
  },
  {
   "cell_type": "code",
   "execution_count": 117,
   "metadata": {},
   "outputs": [
    {
     "name": "stdout",
     "output_type": "stream",
     "text": [
      "class_of_worker\n",
      "education\n",
      "major_industry_code\n",
      "major_occupation_code\n",
      "tax_filer_status\n",
      "d_household_family_stat\n",
      "d_household_summary\n"
     ]
    }
   ],
   "source": [
    "for x in df_train.columns:\n",
    "    v=cramers_v(df_train[x],df_train.income_level)\n",
    "    if df_train[x].dtype==\"O\" and v>0.2:\n",
    "        print(x)"
   ]
  },
  {
   "cell_type": "code",
   "execution_count": 119,
   "metadata": {},
   "outputs": [],
   "source": [
    "df_obj=[\"class_of_worker\",'education','major_industry_code','major_occupation_code','tax_filer_status','d_household_family_stat','d_household_summary','income_level']\n"
   ]
  },
  {
   "cell_type": "code",
   "execution_count": 120,
   "metadata": {},
   "outputs": [],
   "source": [
    "train=df_train[df_obj]\n",
    "test=df_test[df_obj]"
   ]
  },
  {
   "cell_type": "code",
   "execution_count": 122,
   "metadata": {},
   "outputs": [],
   "source": [
    "train.reset_index(inplace=True)\n",
    "test.reset_index(inplace=True)"
   ]
  },
  {
   "cell_type": "code",
   "execution_count": 127,
   "metadata": {},
   "outputs": [],
   "source": [
    "from sklearn import preprocessing"
   ]
  },
  {
   "cell_type": "code",
   "execution_count": 128,
   "metadata": {},
   "outputs": [],
   "source": [
    "le = preprocessing.LabelEncoder()"
   ]
  },
  {
   "cell_type": "code",
   "execution_count": 129,
   "metadata": {},
   "outputs": [
    {
     "data": {
      "text/plain": [
       "LabelEncoder()"
      ]
     },
     "execution_count": 129,
     "metadata": {},
     "output_type": "execute_result"
    }
   ],
   "source": [
    "le.fit(train.class_of_worker)"
   ]
  },
  {
   "cell_type": "code",
   "execution_count": 135,
   "metadata": {},
   "outputs": [
    {
     "name": "stderr",
     "output_type": "stream",
     "text": [
      "c:\\users\\shiva kumar\\appdata\\local\\programs\\python\\python36\\lib\\site-packages\\pandas\\core\\generic.py:4405: SettingWithCopyWarning: \n",
      "A value is trying to be set on a copy of a slice from a DataFrame.\n",
      "Try using .loc[row_indexer,col_indexer] = value instead\n",
      "\n",
      "See the caveats in the documentation: http://pandas.pydata.org/pandas-docs/stable/indexing.html#indexing-view-versus-copy\n",
      "  self[name] = value\n"
     ]
    }
   ],
   "source": [
    "train.class_of_worker=le.transform(train.class_of_worker)"
   ]
  },
  {
   "cell_type": "code",
   "execution_count": 137,
   "metadata": {},
   "outputs": [
    {
     "name": "stderr",
     "output_type": "stream",
     "text": [
      "c:\\users\\shiva kumar\\appdata\\local\\programs\\python\\python36\\lib\\site-packages\\ipykernel_launcher.py:2: SettingWithCopyWarning: \n",
      "A value is trying to be set on a copy of a slice from a DataFrame.\n",
      "Try using .loc[row_indexer,col_indexer] = value instead\n",
      "\n",
      "See the caveats in the documentation: http://pandas.pydata.org/pandas-docs/stable/indexing.html#indexing-view-versus-copy\n",
      "  \n"
     ]
    }
   ],
   "source": [
    "for x in train.drop(['income_level'],1):\n",
    "    train[x]=le.fit_transform(train[x])"
   ]
  },
  {
   "cell_type": "code",
   "execution_count": 140,
   "metadata": {},
   "outputs": [],
   "source": [
    "df_obj1=[\"class_of_worker\",'education','major_industry_code','major_occupation_code','tax_filer_status','d_household_family_stat','d_household_summary','income_level','citizenship']"
   ]
  },
  {
   "cell_type": "code",
   "execution_count": 141,
   "metadata": {},
   "outputs": [],
   "source": [
    "test=df_test[df_obj1]"
   ]
  },
  {
   "cell_type": "code",
   "execution_count": 144,
   "metadata": {},
   "outputs": [
    {
     "name": "stderr",
     "output_type": "stream",
     "text": [
      "c:\\users\\shiva kumar\\appdata\\local\\programs\\python\\python36\\lib\\site-packages\\sklearn\\ensemble\\forest.py:246: FutureWarning: The default value of n_estimators will change from 10 in version 0.20 to 100 in 0.22.\n",
      "  \"10 in version 0.20 to 100 in 0.22.\", FutureWarning)\n"
     ]
    },
    {
     "data": {
      "text/plain": [
       "RandomForestClassifier(bootstrap=True, class_weight=None, criterion='gini',\n",
       "            max_depth=None, max_features='auto', max_leaf_nodes=None,\n",
       "            min_impurity_decrease=0.0, min_impurity_split=None,\n",
       "            min_samples_leaf=1, min_samples_split=2,\n",
       "            min_weight_fraction_leaf=0.0, n_estimators=10, n_jobs=None,\n",
       "            oob_score=False, random_state=None, verbose=0,\n",
       "            warm_start=False)"
      ]
     },
     "execution_count": 144,
     "metadata": {},
     "output_type": "execute_result"
    }
   ],
   "source": [
    "clf_rf=RandomForestClassifier()\n",
    "clf_rf.fit(train.drop(['income_level'],1),train['income_level'])"
   ]
  },
  {
   "cell_type": "code",
   "execution_count": 145,
   "metadata": {},
   "outputs": [
    {
     "data": {
      "text/plain": [
       "0.9377819209719132"
      ]
     },
     "execution_count": 145,
     "metadata": {},
     "output_type": "execute_result"
    }
   ],
   "source": [
    "clf_rf.score(test.drop(['income_level'],1),test['income_level'])"
   ]
  },
  {
   "cell_type": "code",
   "execution_count": 148,
   "metadata": {},
   "outputs": [],
   "source": [
    "from sklearn.metrics import roc_auc_score"
   ]
  },
  {
   "cell_type": "code",
   "execution_count": 149,
   "metadata": {},
   "outputs": [],
   "source": [
    "k=clf_rf.predict(test.drop(['income_level'],1))"
   ]
  },
  {
   "cell_type": "code",
   "execution_count": 150,
   "metadata": {},
   "outputs": [
    {
     "data": {
      "text/plain": [
       "0.5014729646662616"
      ]
     },
     "execution_count": 150,
     "metadata": {},
     "output_type": "execute_result"
    }
   ],
   "source": [
    "roc_auc_score(test['income_level'],k)"
   ]
  },
  {
   "cell_type": "code",
   "execution_count": 155,
   "metadata": {},
   "outputs": [
    {
     "data": {
      "text/plain": [
       "<matplotlib.axes._subplots.AxesSubplot at 0x1f4d2ceeeb8>"
      ]
     },
     "execution_count": 155,
     "metadata": {},
     "output_type": "execute_result"
    },
    {
     "data": {
      "image/png": "[encoded data removed]",
      "text/plain": [
       "<Figure size 1152x432 with 1 Axes>"
      ]
     },
     "metadata": {
      "needs_background": "light"
     },
     "output_type": "display_data"
    }
   ],
   "source": [
    "plt.figure(figsize=(16,6))\n",
    "sns.distplot(df_train.wage_per_hour)"
   ]
  },
  {
   "cell_type": "code",
   "execution_count": 162,
   "metadata": {},
   "outputs": [
    {
     "name": "stdout",
     "output_type": "stream",
     "text": [
      "age 0.13572037728130587\n",
      "industry_code 0.19618969446023996\n",
      "occupation_code 0.013414010148058033\n",
      "wage_per_hour 0.024528208908774145\n",
      "capital_gains 0.24072481971565338\n",
      "capital_losses 0.14741707555079017\n",
      "dividend_from_Stocks 0.17211602965334505\n",
      "num_person_Worked_employer 0.22268402820146857\n",
      "business_or_self_employed 0.040472535247869326\n",
      "veterans_benefits 0.14092979005866343\n",
      "weeks_worked_in_year 0.26231613613283955\n",
      "year 0.014793783478957547\n"
     ]
    }
   ],
   "source": [
    "for x in df_train.drop(['income_level'],1).columns:\n",
    "    if df_train[x].dtype==\"int64\":\n",
    "        #if ss.pointbiserialr(df_train.income_level, df_train[x])[0]>0.2:\n",
    "        print(x,ss.pointbiserialr(df_train.income_level, df_train[x])[0])"
   ]
  },
  {
   "cell_type": "code",
   "execution_count": 165,
   "metadata": {},
   "outputs": [],
   "source": [
    "dtr=df_train[[\"class_of_worker\",'education','major_industry_code','major_occupation_code','tax_filer_status','d_household_family_stat','d_household_summary','income_level',\n",
    "             'age','wage_per_hour','capital_gains','capital_losses','dividend_from_Stocks','num_person_Worked_employer','veterans_benefits','weeks_worked_in_year']]"
   ]
  },
  {
   "cell_type": "code",
   "execution_count": 166,
   "metadata": {},
   "outputs": [],
   "source": [
    "dte=df_test[[\"class_of_worker\",'education','major_industry_code','major_occupation_code','tax_filer_status','d_household_family_stat','d_household_summary','income_level',\n",
    "             'age','wage_per_hour','capital_gains','capital_losses','dividend_from_Stocks','num_person_Worked_employer','veterans_benefits','weeks_worked_in_year']]"
   ]
  },
  {
   "cell_type": "code",
   "execution_count": 168,
   "metadata": {},
   "outputs": [
    {
     "data": {
      "text/plain": [
       "16"
      ]
     },
     "execution_count": 168,
     "metadata": {},
     "output_type": "execute_result"
    }
   ],
   "source": [
    "len(dtr.columns)"
   ]
  },
  {
   "cell_type": "code",
   "execution_count": 171,
   "metadata": {},
   "outputs": [
    {
     "data": {
      "text/plain": [
       "16"
      ]
     },
     "execution_count": 171,
     "metadata": {},
     "output_type": "execute_result"
    }
   ],
   "source": [
    "len(dte.columns)"
   ]
  },
  {
   "cell_type": "code",
   "execution_count": 173,
   "metadata": {},
   "outputs": [
    {
     "name": "stderr",
     "output_type": "stream",
     "text": [
      "c:\\users\\shiva kumar\\appdata\\local\\programs\\python\\python36\\lib\\site-packages\\ipykernel_launcher.py:3: SettingWithCopyWarning: \n",
      "A value is trying to be set on a copy of a slice from a DataFrame.\n",
      "Try using .loc[row_indexer,col_indexer] = value instead\n",
      "\n",
      "See the caveats in the documentation: http://pandas.pydata.org/pandas-docs/stable/indexing.html#indexing-view-versus-copy\n",
      "  This is separate from the ipykernel package so we can avoid doing imports until\n"
     ]
    }
   ],
   "source": [
    "for x in dtr.drop(['income_level'],1):\n",
    "    if dtr[x].dtype==\"O\":\n",
    "        dtr[x]=le.fit_transform(dtr[x])"
   ]
  },
  {
   "cell_type": "code",
   "execution_count": 175,
   "metadata": {},
   "outputs": [],
   "source": [
    "dtr.reset_index(inplace=True)"
   ]
  },
  {
   "cell_type": "code",
   "execution_count": 177,
   "metadata": {},
   "outputs": [
    {
     "name": "stderr",
     "output_type": "stream",
     "text": [
      "c:\\users\\shiva kumar\\appdata\\local\\programs\\python\\python36\\lib\\site-packages\\ipykernel_launcher.py:1: SettingWithCopyWarning: \n",
      "A value is trying to be set on a copy of a slice from a DataFrame.\n",
      "Try using .loc[row_indexer,col_indexer] = value instead\n",
      "\n",
      "See the caveats in the documentation: http://pandas.pydata.org/pandas-docs/stable/indexing.html#indexing-view-versus-copy\n",
      "  \"\"\"Entry point for launching an IPython kernel.\n"
     ]
    }
   ],
   "source": [
    "dtr['citizenship']=le.fit_transform(dtr['citizenship'])"
   ]
  },
  {
   "cell_type": "code",
   "execution_count": 178,
   "metadata": {},
   "outputs": [],
   "source": [
    "dte.reset_index(inplace=True)"
   ]
  },
  {
   "cell_type": "code",
   "execution_count": 180,
   "metadata": {},
   "outputs": [
    {
     "name": "stderr",
     "output_type": "stream",
     "text": [
      "c:\\users\\shiva kumar\\appdata\\local\\programs\\python\\python36\\lib\\site-packages\\ipykernel_launcher.py:3: SettingWithCopyWarning: \n",
      "A value is trying to be set on a copy of a slice from a DataFrame.\n",
      "Try using .loc[row_indexer,col_indexer] = value instead\n",
      "\n",
      "See the caveats in the documentation: http://pandas.pydata.org/pandas-docs/stable/indexing.html#indexing-view-versus-copy\n",
      "  This is separate from the ipykernel package so we can avoid doing imports until\n"
     ]
    }
   ],
   "source": [
    "for x in dte.drop(['income_level'],1):\n",
    "    if dte[x].dtype==\"O\":\n",
    "        dte[x]=le.fit_transform(dte[x])"
   ]
  },
  {
   "cell_type": "code",
   "execution_count": 181,
   "metadata": {},
   "outputs": [
    {
     "name": "stderr",
     "output_type": "stream",
     "text": [
      "c:\\users\\shiva kumar\\appdata\\local\\programs\\python\\python36\\lib\\site-packages\\sklearn\\ensemble\\forest.py:246: FutureWarning: The default value of n_estimators will change from 10 in version 0.20 to 100 in 0.22.\n",
      "  \"10 in version 0.20 to 100 in 0.22.\", FutureWarning)\n"
     ]
    },
    {
     "data": {
      "text/plain": [
       "RandomForestClassifier(bootstrap=True, class_weight=None, criterion='gini',\n",
       "            max_depth=None, max_features='auto', max_leaf_nodes=None,\n",
       "            min_impurity_decrease=0.0, min_impurity_split=None,\n",
       "            min_samples_leaf=1, min_samples_split=2,\n",
       "            min_weight_fraction_leaf=0.0, n_estimators=10, n_jobs=None,\n",
       "            oob_score=False, random_state=None, verbose=0,\n",
       "            warm_start=False)"
      ]
     },
     "execution_count": 181,
     "metadata": {},
     "output_type": "execute_result"
    }
   ],
   "source": [
    "clf_rf=RandomForestClassifier()\n",
    "clf_rf.fit(dtr.drop(['income_level'],1),dtr['income_level'])"
   ]
  },
  {
   "cell_type": "code",
   "execution_count": 182,
   "metadata": {},
   "outputs": [
    {
     "data": {
      "text/plain": [
       "0.6613219703179382"
      ]
     },
     "execution_count": 182,
     "metadata": {},
     "output_type": "execute_result"
    }
   ],
   "source": [
    "k=clf_rf.predict(dte.drop(['income_level'],1))\n",
    "roc_auc_score(test['income_level'],k)"
   ]
  },
  {
   "cell_type": "markdown",
   "metadata": {},
   "source": [
    "# smote implementation"
   ]
  },
  {
   "cell_type": "code",
   "execution_count": 183,
   "metadata": {},
   "outputs": [],
   "source": [
    "from imblearn.over_sampling import SMOTE"
   ]
  },
  {
   "cell_type": "code",
   "execution_count": 184,
   "metadata": {},
   "outputs": [],
   "source": [
    "se=SMOTE()"
   ]
  },
  {
   "cell_type": "code",
   "execution_count": 186,
   "metadata": {},
   "outputs": [],
   "source": [
    " X_res, y_res = se.fit_resample(dtr.drop(['income_level'],1),dtr['income_level'])"
   ]
  },
  {
   "cell_type": "code",
   "execution_count": 187,
   "metadata": {},
   "outputs": [
    {
     "data": {
      "text/plain": [
       "RandomForestClassifier(bootstrap=True, class_weight=None, criterion='gini',\n",
       "            max_depth=None, max_features='auto', max_leaf_nodes=None,\n",
       "            min_impurity_decrease=0.0, min_impurity_split=None,\n",
       "            min_samples_leaf=1, min_samples_split=2,\n",
       "            min_weight_fraction_leaf=0.0, n_estimators=10, n_jobs=None,\n",
       "            oob_score=False, random_state=None, verbose=0,\n",
       "            warm_start=False)"
      ]
     },
     "execution_count": 187,
     "metadata": {},
     "output_type": "execute_result"
    }
   ],
   "source": [
    "clf_rf.fit(X_res, y_res)"
   ]
  },
  {
   "cell_type": "code",
   "execution_count": 188,
   "metadata": {},
   "outputs": [
    {
     "data": {
      "text/plain": [
       "0.776138688640517"
      ]
     },
     "execution_count": 188,
     "metadata": {},
     "output_type": "execute_result"
    }
   ],
   "source": [
    "#after implementation of smote\n",
    "k=clf_rf.predict(dte.drop(['income_level'],1))\n",
    "roc_auc_score(test['income_level'],k)"
   ]
  }
 ],
 "metadata": {
  "kernelspec": {
   "display_name": "Python 3",
   "language": "python",
   "name": "python3"
  },
  "language_info": {
   "codemirror_mode": {
    "name": "ipython",
    "version": 3
   },
   "file_extension": ".py",
   "mimetype": "text/x-python",
   "name": "python",
   "nbconvert_exporter": "python",
   "pygments_lexer": "ipython3",
   "version": "3.6.4"
  }
 },
 "nbformat": 4,
 "nbformat_minor": 2
}
